{
 "cells": [
  {
   "cell_type": "markdown",
   "metadata": {},
   "source": [
    "This file is for checking the contents of knee-fit csv files to match the data with deepfluoro"
   ]
  },
  {
   "cell_type": "markdown",
   "metadata": {},
   "source": [
    "## General info"
   ]
  },
  {
   "cell_type": "code",
   "execution_count": 2,
   "metadata": {},
   "outputs": [],
   "source": [
    "import pandas as pd"
   ]
  },
  {
   "cell_type": "code",
   "execution_count": 11,
   "metadata": {},
   "outputs": [
    {
     "data": {
      "text/plain": [
       "Index(['Unnamed: 0', 'id', 'frame', 'cal_focal_length', 'cal_principalp_x',\n",
       "       'cal_principalp_y', 'cal_mm_per_pxl', 'femur_rxx', 'femur_rxy',\n",
       "       'femur_rxz', 'femur_tx', 'femur_ryx', 'femur_ryy', 'femur_ryz',\n",
       "       'femur_ty', 'femur_rzx', 'femur_rzy', 'femur_rzz', 'femur_tz',\n",
       "       'femur_stl', 'femur_nii', 'tibia_rxx', 'tibia_rxy', 'tibia_rxz',\n",
       "       'tibia_tx', 'tibia_ryx', 'tibia_ryy', 'tibia_ryz', 'tibia_ty',\n",
       "       'tibia_rzx', 'tibia_rzy', 'tibia_rzz', 'tibia_tz', 'tibia_stl',\n",
       "       'tibia_nii', 'img_path', 'kneefit_txt_path(sourcepath)', 'type'],\n",
       "      dtype='object')"
      ]
     },
     "execution_count": 11,
     "metadata": {},
     "output_type": "execute_result"
    }
   ],
   "source": [
    "# knee_fit_path = \"D:\\kneefit_model_nii\\kneefit_data_cluster_modified.csv\"\n",
    "knee_fit_path = r\"C:\\Users\\Public Admin\\Desktop\\sipla_data_combined.csv\"\n",
    "\n",
    "knee_df = pd.read_csv(knee_fit_path)\n",
    "\n",
    "knee_df.columns\n",
    "# knee_df.head(5)"
   ]
  },
  {
   "cell_type": "code",
   "execution_count": 12,
   "metadata": {},
   "outputs": [
    {
     "data": {
      "text/html": [
       "<div>\n",
       "<style scoped>\n",
       "    .dataframe tbody tr th:only-of-type {\n",
       "        vertical-align: middle;\n",
       "    }\n",
       "\n",
       "    .dataframe tbody tr th {\n",
       "        vertical-align: top;\n",
       "    }\n",
       "\n",
       "    .dataframe thead th {\n",
       "        text-align: right;\n",
       "    }\n",
       "</style>\n",
       "<table border=\"1\" class=\"dataframe\">\n",
       "  <thead>\n",
       "    <tr style=\"text-align: right;\">\n",
       "      <th></th>\n",
       "      <th>Unnamed: 0</th>\n",
       "      <th>id</th>\n",
       "      <th>frame</th>\n",
       "      <th>cal_focal_length</th>\n",
       "      <th>cal_principalp_x</th>\n",
       "      <th>cal_principalp_y</th>\n",
       "      <th>cal_mm_per_pxl</th>\n",
       "      <th>femur_rxx</th>\n",
       "      <th>femur_rxy</th>\n",
       "      <th>femur_rxz</th>\n",
       "      <th>femur_tx</th>\n",
       "      <th>femur_ryx</th>\n",
       "      <th>femur_ryy</th>\n",
       "      <th>femur_ryz</th>\n",
       "      <th>femur_ty</th>\n",
       "      <th>femur_rzx</th>\n",
       "      <th>femur_rzy</th>\n",
       "      <th>femur_rzz</th>\n",
       "      <th>femur_tz</th>\n",
       "      <th>femur_stl</th>\n",
       "      <th>femur_nii</th>\n",
       "      <th>tibia_rxx</th>\n",
       "      <th>tibia_rxy</th>\n",
       "      <th>tibia_rxz</th>\n",
       "      <th>tibia_tx</th>\n",
       "      <th>tibia_ryx</th>\n",
       "      <th>tibia_ryy</th>\n",
       "      <th>tibia_ryz</th>\n",
       "      <th>tibia_ty</th>\n",
       "      <th>tibia_rzx</th>\n",
       "      <th>tibia_rzy</th>\n",
       "      <th>tibia_rzz</th>\n",
       "      <th>tibia_tz</th>\n",
       "      <th>tibia_stl</th>\n",
       "      <th>tibia_nii</th>\n",
       "      <th>img_path</th>\n",
       "      <th>kneefit_txt_path(sourcepath)</th>\n",
       "      <th>type</th>\n",
       "    </tr>\n",
       "  </thead>\n",
       "  <tbody>\n",
       "    <tr>\n",
       "      <th>0</th>\n",
       "      <td>0</td>\n",
       "      <td>0.0</td>\n",
       "      <td>0.0</td>\n",
       "      <td>972.2564</td>\n",
       "      <td>5.7096</td>\n",
       "      <td>5.8591</td>\n",
       "      <td>0.2876</td>\n",
       "      <td>0.071583</td>\n",
       "      <td>-0.918056</td>\n",
       "      <td>0.389935</td>\n",
       "      <td>33.412527</td>\n",
       "      <td>-0.083026</td>\n",
       "      <td>0.384097</td>\n",
       "      <td>0.919552</td>\n",
       "      <td>14.570022</td>\n",
       "      <td>-0.993973</td>\n",
       "      <td>-0.098199</td>\n",
       "      <td>-0.048727</td>\n",
       "      <td>-886.653890</td>\n",
       "      <td>\\\\hest.nas.ethz.ch\\green_groups_lmb_public\\Projects\\CMB_healthy_knee\\Fluoro\\ProcessData\\HealthyKnee\\SUBN_02\\Corrected\\Matching\\SUBN_02_Femur_RE_Surface.stl</td>\n",
       "      <td>/cluster/work/ifb_lmb/2d_3d_registration/image_collection_all/SIPLA_Bone/anatomies/SUBN_02_Femur_RE_Volume.nii</td>\n",
       "      <td>-0.046028</td>\n",
       "      <td>-0.994925</td>\n",
       "      <td>-0.089472</td>\n",
       "      <td>25.138235</td>\n",
       "      <td>-0.007570</td>\n",
       "      <td>-0.089217</td>\n",
       "      <td>0.995983</td>\n",
       "      <td>14.699819</td>\n",
       "      <td>-0.998911</td>\n",
       "      <td>0.04652</td>\n",
       "      <td>-0.003425</td>\n",
       "      <td>-885.680975</td>\n",
       "      <td>\\\\hest.nas.ethz.ch\\green_groups_lmb_public\\Projects\\CMB_healthy_knee\\Fluoro\\ProcessData\\HealthyKnee\\SUBN_02\\Corrected\\Matching\\SUBN_02_Tibia_RE_Surface.stl</td>\n",
       "      <td>/cluster/work/ifb_lmb/2d_3d_registration/image_collection_all/SIPLA_Bone/anatomies/SUBN_02_Tibia_RE_Volume.nii</td>\n",
       "      <td>/cluster/work/ifb_lmb/2d_3d_registration/image_collection_all/SIPLA_Bone/Images/C_SUBN_02_dkb_01_001.tiff</td>\n",
       "      <td>\\\\hest.nas.ethz.ch\\green_groups_lmb_public\\Projects\\CMB_healthy_knee\\Fluoro\\ProcessData\\HealthyKnee\\SUBN_02\\Corrected\\Matching\\SUBN_02_dkb_01_gematched_corrected.txt</td>\n",
       "      <td>bone</td>\n",
       "    </tr>\n",
       "    <tr>\n",
       "      <th>1</th>\n",
       "      <td>1</td>\n",
       "      <td>1.0</td>\n",
       "      <td>1.0</td>\n",
       "      <td>972.2564</td>\n",
       "      <td>5.7096</td>\n",
       "      <td>5.8591</td>\n",
       "      <td>0.2876</td>\n",
       "      <td>0.069805</td>\n",
       "      <td>-0.909694</td>\n",
       "      <td>0.409370</td>\n",
       "      <td>30.713121</td>\n",
       "      <td>-0.084527</td>\n",
       "      <td>0.403502</td>\n",
       "      <td>0.911066</td>\n",
       "      <td>14.604851</td>\n",
       "      <td>-0.993973</td>\n",
       "      <td>-0.098200</td>\n",
       "      <td>-0.048727</td>\n",
       "      <td>-886.772890</td>\n",
       "      <td>\\\\hest.nas.ethz.ch\\green_groups_lmb_public\\Projects\\CMB_healthy_knee\\Fluoro\\ProcessData\\HealthyKnee\\SUBN_02\\Corrected\\Matching\\SUBN_02_Femur_RE_Surface.stl</td>\n",
       "      <td>/cluster/work/ifb_lmb/2d_3d_registration/image_collection_all/SIPLA_Bone/anatomies/SUBN_02_Femur_RE_Volume.nii</td>\n",
       "      <td>-0.046028</td>\n",
       "      <td>-0.994925</td>\n",
       "      <td>-0.089472</td>\n",
       "      <td>23.053335</td>\n",
       "      <td>-0.007570</td>\n",
       "      <td>-0.089217</td>\n",
       "      <td>0.995983</td>\n",
       "      <td>15.105819</td>\n",
       "      <td>-0.998911</td>\n",
       "      <td>0.04652</td>\n",
       "      <td>-0.003425</td>\n",
       "      <td>-885.798974</td>\n",
       "      <td>\\\\hest.nas.ethz.ch\\green_groups_lmb_public\\Projects\\CMB_healthy_knee\\Fluoro\\ProcessData\\HealthyKnee\\SUBN_02\\Corrected\\Matching\\SUBN_02_Tibia_RE_Surface.stl</td>\n",
       "      <td>/cluster/work/ifb_lmb/2d_3d_registration/image_collection_all/SIPLA_Bone/anatomies/SUBN_02_Tibia_RE_Volume.nii</td>\n",
       "      <td>/cluster/work/ifb_lmb/2d_3d_registration/image_collection_all/SIPLA_Bone/Images/C_SUBN_02_dkb_01_002.tiff</td>\n",
       "      <td>\\\\hest.nas.ethz.ch\\green_groups_lmb_public\\Projects\\CMB_healthy_knee\\Fluoro\\ProcessData\\HealthyKnee\\SUBN_02\\Corrected\\Matching\\SUBN_02_dkb_01_gematched_corrected.txt</td>\n",
       "      <td>bone</td>\n",
       "    </tr>\n",
       "    <tr>\n",
       "      <th>2</th>\n",
       "      <td>2</td>\n",
       "      <td>2.0</td>\n",
       "      <td>2.0</td>\n",
       "      <td>972.2564</td>\n",
       "      <td>5.7096</td>\n",
       "      <td>5.8591</td>\n",
       "      <td>0.2876</td>\n",
       "      <td>0.086237</td>\n",
       "      <td>-0.898558</td>\n",
       "      <td>0.430299</td>\n",
       "      <td>27.698214</td>\n",
       "      <td>-0.086054</td>\n",
       "      <td>0.423576</td>\n",
       "      <td>0.901764</td>\n",
       "      <td>14.276414</td>\n",
       "      <td>-0.992551</td>\n",
       "      <td>-0.114794</td>\n",
       "      <td>-0.040796</td>\n",
       "      <td>-887.379260</td>\n",
       "      <td>\\\\hest.nas.ethz.ch\\green_groups_lmb_public\\Projects\\CMB_healthy_knee\\Fluoro\\ProcessData\\HealthyKnee\\SUBN_02\\Corrected\\Matching\\SUBN_02_Femur_RE_Surface.stl</td>\n",
       "      <td>/cluster/work/ifb_lmb/2d_3d_registration/image_collection_all/SIPLA_Bone/anatomies/SUBN_02_Femur_RE_Volume.nii</td>\n",
       "      <td>-0.045973</td>\n",
       "      <td>-0.994272</td>\n",
       "      <td>-0.096483</td>\n",
       "      <td>19.831035</td>\n",
       "      <td>-0.007894</td>\n",
       "      <td>-0.096221</td>\n",
       "      <td>0.995329</td>\n",
       "      <td>14.216039</td>\n",
       "      <td>-0.998911</td>\n",
       "      <td>0.04652</td>\n",
       "      <td>-0.003425</td>\n",
       "      <td>-885.802975</td>\n",
       "      <td>\\\\hest.nas.ethz.ch\\green_groups_lmb_public\\Projects\\CMB_healthy_knee\\Fluoro\\ProcessData\\HealthyKnee\\SUBN_02\\Corrected\\Matching\\SUBN_02_Tibia_RE_Surface.stl</td>\n",
       "      <td>/cluster/work/ifb_lmb/2d_3d_registration/image_collection_all/SIPLA_Bone/anatomies/SUBN_02_Tibia_RE_Volume.nii</td>\n",
       "      <td>/cluster/work/ifb_lmb/2d_3d_registration/image_collection_all/SIPLA_Bone/Images/C_SUBN_02_dkb_01_003.tiff</td>\n",
       "      <td>\\\\hest.nas.ethz.ch\\green_groups_lmb_public\\Projects\\CMB_healthy_knee\\Fluoro\\ProcessData\\HealthyKnee\\SUBN_02\\Corrected\\Matching\\SUBN_02_dkb_01_gematched_corrected.txt</td>\n",
       "      <td>bone</td>\n",
       "    </tr>\n",
       "    <tr>\n",
       "      <th>3</th>\n",
       "      <td>3</td>\n",
       "      <td>3.0</td>\n",
       "      <td>3.0</td>\n",
       "      <td>972.2564</td>\n",
       "      <td>5.7096</td>\n",
       "      <td>5.8591</td>\n",
       "      <td>0.2876</td>\n",
       "      <td>0.084387</td>\n",
       "      <td>-0.889344</td>\n",
       "      <td>0.449384</td>\n",
       "      <td>25.018581</td>\n",
       "      <td>-0.087869</td>\n",
       "      <td>0.442594</td>\n",
       "      <td>0.892407</td>\n",
       "      <td>13.953730</td>\n",
       "      <td>-0.992551</td>\n",
       "      <td>-0.114794</td>\n",
       "      <td>-0.040797</td>\n",
       "      <td>-887.534260</td>\n",
       "      <td>\\\\hest.nas.ethz.ch\\green_groups_lmb_public\\Projects\\CMB_healthy_knee\\Fluoro\\ProcessData\\HealthyKnee\\SUBN_02\\Corrected\\Matching\\SUBN_02_Femur_RE_Surface.stl</td>\n",
       "      <td>/cluster/work/ifb_lmb/2d_3d_registration/image_collection_all/SIPLA_Bone/anatomies/SUBN_02_Femur_RE_Volume.nii</td>\n",
       "      <td>-0.045835</td>\n",
       "      <td>-0.992520</td>\n",
       "      <td>-0.113149</td>\n",
       "      <td>16.069168</td>\n",
       "      <td>-0.008663</td>\n",
       "      <td>-0.112869</td>\n",
       "      <td>0.993572</td>\n",
       "      <td>13.554954</td>\n",
       "      <td>-0.998911</td>\n",
       "      <td>0.04652</td>\n",
       "      <td>-0.003425</td>\n",
       "      <td>-886.754975</td>\n",
       "      <td>\\\\hest.nas.ethz.ch\\green_groups_lmb_public\\Projects\\CMB_healthy_knee\\Fluoro\\ProcessData\\HealthyKnee\\SUBN_02\\Corrected\\Matching\\SUBN_02_Tibia_RE_Surface.stl</td>\n",
       "      <td>/cluster/work/ifb_lmb/2d_3d_registration/image_collection_all/SIPLA_Bone/anatomies/SUBN_02_Tibia_RE_Volume.nii</td>\n",
       "      <td>/cluster/work/ifb_lmb/2d_3d_registration/image_collection_all/SIPLA_Bone/Images/C_SUBN_02_dkb_01_004.tiff</td>\n",
       "      <td>\\\\hest.nas.ethz.ch\\green_groups_lmb_public\\Projects\\CMB_healthy_knee\\Fluoro\\ProcessData\\HealthyKnee\\SUBN_02\\Corrected\\Matching\\SUBN_02_dkb_01_gematched_corrected.txt</td>\n",
       "      <td>bone</td>\n",
       "    </tr>\n",
       "    <tr>\n",
       "      <th>4</th>\n",
       "      <td>4</td>\n",
       "      <td>4.0</td>\n",
       "      <td>4.0</td>\n",
       "      <td>972.2564</td>\n",
       "      <td>5.7096</td>\n",
       "      <td>5.8591</td>\n",
       "      <td>0.2876</td>\n",
       "      <td>0.082271</td>\n",
       "      <td>-0.879308</td>\n",
       "      <td>0.469093</td>\n",
       "      <td>21.987676</td>\n",
       "      <td>-0.089722</td>\n",
       "      <td>0.462243</td>\n",
       "      <td>0.882203</td>\n",
       "      <td>13.190359</td>\n",
       "      <td>-0.992563</td>\n",
       "      <td>-0.114668</td>\n",
       "      <td>-0.040864</td>\n",
       "      <td>-882.244587</td>\n",
       "      <td>\\\\hest.nas.ethz.ch\\green_groups_lmb_public\\Projects\\CMB_healthy_knee\\Fluoro\\ProcessData\\HealthyKnee\\SUBN_02\\Corrected\\Matching\\SUBN_02_Femur_RE_Surface.stl</td>\n",
       "      <td>/cluster/work/ifb_lmb/2d_3d_registration/image_collection_all/SIPLA_Bone/anatomies/SUBN_02_Femur_RE_Volume.nii</td>\n",
       "      <td>-0.045835</td>\n",
       "      <td>-0.992520</td>\n",
       "      <td>-0.113149</td>\n",
       "      <td>13.418668</td>\n",
       "      <td>-0.008663</td>\n",
       "      <td>-0.112869</td>\n",
       "      <td>0.993572</td>\n",
       "      <td>14.087954</td>\n",
       "      <td>-0.998911</td>\n",
       "      <td>0.04652</td>\n",
       "      <td>-0.003425</td>\n",
       "      <td>-881.455975</td>\n",
       "      <td>\\\\hest.nas.ethz.ch\\green_groups_lmb_public\\Projects\\CMB_healthy_knee\\Fluoro\\ProcessData\\HealthyKnee\\SUBN_02\\Corrected\\Matching\\SUBN_02_Tibia_RE_Surface.stl</td>\n",
       "      <td>/cluster/work/ifb_lmb/2d_3d_registration/image_collection_all/SIPLA_Bone/anatomies/SUBN_02_Tibia_RE_Volume.nii</td>\n",
       "      <td>/cluster/work/ifb_lmb/2d_3d_registration/image_collection_all/SIPLA_Bone/Images/C_SUBN_02_dkb_01_005.tiff</td>\n",
       "      <td>\\\\hest.nas.ethz.ch\\green_groups_lmb_public\\Projects\\CMB_healthy_knee\\Fluoro\\ProcessData\\HealthyKnee\\SUBN_02\\Corrected\\Matching\\SUBN_02_dkb_01_gematched_corrected.txt</td>\n",
       "      <td>bone</td>\n",
       "    </tr>\n",
       "  </tbody>\n",
       "</table>\n",
       "</div>"
      ],
      "text/plain": [
       "   Unnamed: 0   id  frame  cal_focal_length  cal_principalp_x  \\\n",
       "0           0  0.0    0.0          972.2564            5.7096   \n",
       "1           1  1.0    1.0          972.2564            5.7096   \n",
       "2           2  2.0    2.0          972.2564            5.7096   \n",
       "3           3  3.0    3.0          972.2564            5.7096   \n",
       "4           4  4.0    4.0          972.2564            5.7096   \n",
       "\n",
       "   cal_principalp_y  cal_mm_per_pxl  femur_rxx  femur_rxy  femur_rxz  \\\n",
       "0            5.8591          0.2876   0.071583  -0.918056   0.389935   \n",
       "1            5.8591          0.2876   0.069805  -0.909694   0.409370   \n",
       "2            5.8591          0.2876   0.086237  -0.898558   0.430299   \n",
       "3            5.8591          0.2876   0.084387  -0.889344   0.449384   \n",
       "4            5.8591          0.2876   0.082271  -0.879308   0.469093   \n",
       "\n",
       "    femur_tx  femur_ryx  femur_ryy  femur_ryz   femur_ty  femur_rzx  \\\n",
       "0  33.412527  -0.083026   0.384097   0.919552  14.570022  -0.993973   \n",
       "1  30.713121  -0.084527   0.403502   0.911066  14.604851  -0.993973   \n",
       "2  27.698214  -0.086054   0.423576   0.901764  14.276414  -0.992551   \n",
       "3  25.018581  -0.087869   0.442594   0.892407  13.953730  -0.992551   \n",
       "4  21.987676  -0.089722   0.462243   0.882203  13.190359  -0.992563   \n",
       "\n",
       "   femur_rzy  femur_rzz    femur_tz  \\\n",
       "0  -0.098199  -0.048727 -886.653890   \n",
       "1  -0.098200  -0.048727 -886.772890   \n",
       "2  -0.114794  -0.040796 -887.379260   \n",
       "3  -0.114794  -0.040797 -887.534260   \n",
       "4  -0.114668  -0.040864 -882.244587   \n",
       "\n",
       "                                                                                                                                                     femur_stl  \\\n",
       "0  \\\\hest.nas.ethz.ch\\green_groups_lmb_public\\Projects\\CMB_healthy_knee\\Fluoro\\ProcessData\\HealthyKnee\\SUBN_02\\Corrected\\Matching\\SUBN_02_Femur_RE_Surface.stl   \n",
       "1  \\\\hest.nas.ethz.ch\\green_groups_lmb_public\\Projects\\CMB_healthy_knee\\Fluoro\\ProcessData\\HealthyKnee\\SUBN_02\\Corrected\\Matching\\SUBN_02_Femur_RE_Surface.stl   \n",
       "2  \\\\hest.nas.ethz.ch\\green_groups_lmb_public\\Projects\\CMB_healthy_knee\\Fluoro\\ProcessData\\HealthyKnee\\SUBN_02\\Corrected\\Matching\\SUBN_02_Femur_RE_Surface.stl   \n",
       "3  \\\\hest.nas.ethz.ch\\green_groups_lmb_public\\Projects\\CMB_healthy_knee\\Fluoro\\ProcessData\\HealthyKnee\\SUBN_02\\Corrected\\Matching\\SUBN_02_Femur_RE_Surface.stl   \n",
       "4  \\\\hest.nas.ethz.ch\\green_groups_lmb_public\\Projects\\CMB_healthy_knee\\Fluoro\\ProcessData\\HealthyKnee\\SUBN_02\\Corrected\\Matching\\SUBN_02_Femur_RE_Surface.stl   \n",
       "\n",
       "                                                                                                        femur_nii  \\\n",
       "0  /cluster/work/ifb_lmb/2d_3d_registration/image_collection_all/SIPLA_Bone/anatomies/SUBN_02_Femur_RE_Volume.nii   \n",
       "1  /cluster/work/ifb_lmb/2d_3d_registration/image_collection_all/SIPLA_Bone/anatomies/SUBN_02_Femur_RE_Volume.nii   \n",
       "2  /cluster/work/ifb_lmb/2d_3d_registration/image_collection_all/SIPLA_Bone/anatomies/SUBN_02_Femur_RE_Volume.nii   \n",
       "3  /cluster/work/ifb_lmb/2d_3d_registration/image_collection_all/SIPLA_Bone/anatomies/SUBN_02_Femur_RE_Volume.nii   \n",
       "4  /cluster/work/ifb_lmb/2d_3d_registration/image_collection_all/SIPLA_Bone/anatomies/SUBN_02_Femur_RE_Volume.nii   \n",
       "\n",
       "   tibia_rxx  tibia_rxy  tibia_rxz   tibia_tx  tibia_ryx  tibia_ryy  \\\n",
       "0  -0.046028  -0.994925  -0.089472  25.138235  -0.007570  -0.089217   \n",
       "1  -0.046028  -0.994925  -0.089472  23.053335  -0.007570  -0.089217   \n",
       "2  -0.045973  -0.994272  -0.096483  19.831035  -0.007894  -0.096221   \n",
       "3  -0.045835  -0.992520  -0.113149  16.069168  -0.008663  -0.112869   \n",
       "4  -0.045835  -0.992520  -0.113149  13.418668  -0.008663  -0.112869   \n",
       "\n",
       "   tibia_ryz   tibia_ty  tibia_rzx  tibia_rzy  tibia_rzz    tibia_tz  \\\n",
       "0   0.995983  14.699819  -0.998911    0.04652  -0.003425 -885.680975   \n",
       "1   0.995983  15.105819  -0.998911    0.04652  -0.003425 -885.798974   \n",
       "2   0.995329  14.216039  -0.998911    0.04652  -0.003425 -885.802975   \n",
       "3   0.993572  13.554954  -0.998911    0.04652  -0.003425 -886.754975   \n",
       "4   0.993572  14.087954  -0.998911    0.04652  -0.003425 -881.455975   \n",
       "\n",
       "                                                                                                                                                     tibia_stl  \\\n",
       "0  \\\\hest.nas.ethz.ch\\green_groups_lmb_public\\Projects\\CMB_healthy_knee\\Fluoro\\ProcessData\\HealthyKnee\\SUBN_02\\Corrected\\Matching\\SUBN_02_Tibia_RE_Surface.stl   \n",
       "1  \\\\hest.nas.ethz.ch\\green_groups_lmb_public\\Projects\\CMB_healthy_knee\\Fluoro\\ProcessData\\HealthyKnee\\SUBN_02\\Corrected\\Matching\\SUBN_02_Tibia_RE_Surface.stl   \n",
       "2  \\\\hest.nas.ethz.ch\\green_groups_lmb_public\\Projects\\CMB_healthy_knee\\Fluoro\\ProcessData\\HealthyKnee\\SUBN_02\\Corrected\\Matching\\SUBN_02_Tibia_RE_Surface.stl   \n",
       "3  \\\\hest.nas.ethz.ch\\green_groups_lmb_public\\Projects\\CMB_healthy_knee\\Fluoro\\ProcessData\\HealthyKnee\\SUBN_02\\Corrected\\Matching\\SUBN_02_Tibia_RE_Surface.stl   \n",
       "4  \\\\hest.nas.ethz.ch\\green_groups_lmb_public\\Projects\\CMB_healthy_knee\\Fluoro\\ProcessData\\HealthyKnee\\SUBN_02\\Corrected\\Matching\\SUBN_02_Tibia_RE_Surface.stl   \n",
       "\n",
       "                                                                                                        tibia_nii  \\\n",
       "0  /cluster/work/ifb_lmb/2d_3d_registration/image_collection_all/SIPLA_Bone/anatomies/SUBN_02_Tibia_RE_Volume.nii   \n",
       "1  /cluster/work/ifb_lmb/2d_3d_registration/image_collection_all/SIPLA_Bone/anatomies/SUBN_02_Tibia_RE_Volume.nii   \n",
       "2  /cluster/work/ifb_lmb/2d_3d_registration/image_collection_all/SIPLA_Bone/anatomies/SUBN_02_Tibia_RE_Volume.nii   \n",
       "3  /cluster/work/ifb_lmb/2d_3d_registration/image_collection_all/SIPLA_Bone/anatomies/SUBN_02_Tibia_RE_Volume.nii   \n",
       "4  /cluster/work/ifb_lmb/2d_3d_registration/image_collection_all/SIPLA_Bone/anatomies/SUBN_02_Tibia_RE_Volume.nii   \n",
       "\n",
       "                                                                                                    img_path  \\\n",
       "0  /cluster/work/ifb_lmb/2d_3d_registration/image_collection_all/SIPLA_Bone/Images/C_SUBN_02_dkb_01_001.tiff   \n",
       "1  /cluster/work/ifb_lmb/2d_3d_registration/image_collection_all/SIPLA_Bone/Images/C_SUBN_02_dkb_01_002.tiff   \n",
       "2  /cluster/work/ifb_lmb/2d_3d_registration/image_collection_all/SIPLA_Bone/Images/C_SUBN_02_dkb_01_003.tiff   \n",
       "3  /cluster/work/ifb_lmb/2d_3d_registration/image_collection_all/SIPLA_Bone/Images/C_SUBN_02_dkb_01_004.tiff   \n",
       "4  /cluster/work/ifb_lmb/2d_3d_registration/image_collection_all/SIPLA_Bone/Images/C_SUBN_02_dkb_01_005.tiff   \n",
       "\n",
       "                                                                                                                                            kneefit_txt_path(sourcepath)  \\\n",
       "0  \\\\hest.nas.ethz.ch\\green_groups_lmb_public\\Projects\\CMB_healthy_knee\\Fluoro\\ProcessData\\HealthyKnee\\SUBN_02\\Corrected\\Matching\\SUBN_02_dkb_01_gematched_corrected.txt   \n",
       "1  \\\\hest.nas.ethz.ch\\green_groups_lmb_public\\Projects\\CMB_healthy_knee\\Fluoro\\ProcessData\\HealthyKnee\\SUBN_02\\Corrected\\Matching\\SUBN_02_dkb_01_gematched_corrected.txt   \n",
       "2  \\\\hest.nas.ethz.ch\\green_groups_lmb_public\\Projects\\CMB_healthy_knee\\Fluoro\\ProcessData\\HealthyKnee\\SUBN_02\\Corrected\\Matching\\SUBN_02_dkb_01_gematched_corrected.txt   \n",
       "3  \\\\hest.nas.ethz.ch\\green_groups_lmb_public\\Projects\\CMB_healthy_knee\\Fluoro\\ProcessData\\HealthyKnee\\SUBN_02\\Corrected\\Matching\\SUBN_02_dkb_01_gematched_corrected.txt   \n",
       "4  \\\\hest.nas.ethz.ch\\green_groups_lmb_public\\Projects\\CMB_healthy_knee\\Fluoro\\ProcessData\\HealthyKnee\\SUBN_02\\Corrected\\Matching\\SUBN_02_dkb_01_gematched_corrected.txt   \n",
       "\n",
       "   type  \n",
       "0  bone  \n",
       "1  bone  \n",
       "2  bone  \n",
       "3  bone  \n",
       "4  bone  "
      ]
     },
     "execution_count": 12,
     "metadata": {},
     "output_type": "execute_result"
    }
   ],
   "source": [
    "pd.set_option('display.max_columns', None)\n",
    "pd.set_option('display.max_colwidth', 1000)\n",
    "knee_df.head(5)"
   ]
  },
  {
   "cell_type": "code",
   "execution_count": 13,
   "metadata": {},
   "outputs": [
    {
     "name": "stdout",
     "output_type": "stream",
     "text": [
      "number of unique pixel size 39\n",
      "number of unique focal length 93\n"
     ]
    }
   ],
   "source": [
    "print('number of unique pixel size', knee_df[\"cal_mm_per_pxl\"].nunique())\n",
    "# print('values inside pixel size', knee_df[\"cal_mm_per_pxl\"].unique())\n",
    "\n",
    "print('number of unique focal length', knee_df[\"cal_focal_length\"].nunique())\n",
    "# print('values inside focal length', knee_df[\"cal_focal_length\"].unique())"
   ]
  },
  {
   "cell_type": "code",
   "execution_count": 14,
   "metadata": {},
   "outputs": [
    {
     "data": {
      "text/plain": [
       "0             /cluster/work/ifb_lmb/2d_3d_registration/image_collection_all/SIPLA_Bone/Images/C_SUBN_02_dkb_01_001.tiff\n",
       "1             /cluster/work/ifb_lmb/2d_3d_registration/image_collection_all/SIPLA_Bone/Images/C_SUBN_02_dkb_01_002.tiff\n",
       "2             /cluster/work/ifb_lmb/2d_3d_registration/image_collection_all/SIPLA_Bone/Images/C_SUBN_02_dkb_01_003.tiff\n",
       "3             /cluster/work/ifb_lmb/2d_3d_registration/image_collection_all/SIPLA_Bone/Images/C_SUBN_02_dkb_01_004.tiff\n",
       "4             /cluster/work/ifb_lmb/2d_3d_registration/image_collection_all/SIPLA_Bone/Images/C_SUBN_02_dkb_01_005.tiff\n",
       "                                                              ...                                                      \n",
       "136375    /cluster/work/ifb_lmb/2d_3d_registration/image_collection_all/SIPLA_Implant/Images/C_UCRI_03_st_s_02_018.tiff\n",
       "136376    /cluster/work/ifb_lmb/2d_3d_registration/image_collection_all/SIPLA_Implant/Images/C_UCRI_03_st_s_02_019.tiff\n",
       "136377    /cluster/work/ifb_lmb/2d_3d_registration/image_collection_all/SIPLA_Implant/Images/C_UCRI_03_st_s_02_020.tiff\n",
       "136378    /cluster/work/ifb_lmb/2d_3d_registration/image_collection_all/SIPLA_Implant/Images/C_UCRI_03_st_s_02_021.tiff\n",
       "136379    /cluster/work/ifb_lmb/2d_3d_registration/image_collection_all/SIPLA_Implant/Images/C_UCRI_03_st_s_02_022.tiff\n",
       "Name: img_path, Length: 136380, dtype: object"
      ]
     },
     "execution_count": 14,
     "metadata": {},
     "output_type": "execute_result"
    }
   ],
   "source": [
    "# knee_fit_path = \"D:\\kneefit_model_nii\\kneefit_data_cluster_modified.csv\"\n",
    "# knee_df = pd.read_csv(knee_fit_path)\n",
    "knee_df.img_path"
   ]
  },
  {
   "cell_type": "code",
   "execution_count": 15,
   "metadata": {},
   "outputs": [
    {
     "name": "stdout",
     "output_type": "stream",
     "text": [
      "Number of subjects in this dataset: 939\n"
     ]
    }
   ],
   "source": [
    "# knee_df[\"frame\"].nunique()\n",
    "num_subjects = knee_df[knee_df[\"frame\"] == 0].shape[0]\n",
    "\n",
    "print(\"Number of subjects in this dataset:\", num_subjects)"
   ]
  },
  {
   "cell_type": "markdown",
   "metadata": {},
   "source": [
    "## Notes\n",
    "\n",
    "1. We have all the data needed for init of DRR according to DiffPose, the only missing value is spacing\n",
    "--- Spacing - Dimensions of voxels in the CT volume\n",
    "\n",
    "\n",
    "2. cal_mm_per_pxl == delx, dely\n",
    "\n",
    "3. Need to preprocess data to change the path of nii, stl and xrays\n",
    "\n",
    "4. How to make sure that femur and tibia are connected in the correct way in the rendered image\n"
   ]
  },
  {
   "cell_type": "markdown",
   "metadata": {},
   "source": [
    "## Checking nii data"
   ]
  },
  {
   "cell_type": "code",
   "execution_count": 1,
   "metadata": {},
   "outputs": [],
   "source": [
    "import nibabel as nib"
   ]
  },
  {
   "cell_type": "code",
   "execution_count": 2,
   "metadata": {},
   "outputs": [],
   "source": [
    "path = r\"C:\\Users\\Public Admin\\Desktop\\JTA_test_real\\SUBN_02_Femur_RE_Volume.nii\""
   ]
  },
  {
   "cell_type": "code",
   "execution_count": 3,
   "metadata": {},
   "outputs": [
    {
     "name": "stdout",
     "output_type": "stream",
     "text": [
      "Data shape: (512, 512, 438)\n",
      "Data type: float64\n",
      "Header information: <class 'nibabel.nifti1.Nifti1Header'> object, endian='<'\n",
      "sizeof_hdr      : 348\n",
      "data_type       : b''\n",
      "db_name         : b''\n",
      "extents         : 0\n",
      "session_error   : 0\n",
      "regular         : b'r'\n",
      "dim_info        : 0\n",
      "dim             : [  3 512 512 438   1   1   1   1]\n",
      "intent_p1       : 0.0\n",
      "intent_p2       : 0.0\n",
      "intent_p3       : 0.0\n",
      "intent_code     : none\n",
      "datatype        : int16\n",
      "bitpix          : 16\n",
      "slice_start     : 0\n",
      "pixdim          : [1.       0.390625 0.390625 0.800018 0.       0.       0.       0.      ]\n",
      "vox_offset      : 0.0\n",
      "scl_slope       : nan\n",
      "scl_inter       : nan\n",
      "slice_end       : 0\n",
      "slice_code      : unknown\n",
      "xyzt_units      : 2\n",
      "cal_max         : 0.0\n",
      "cal_min         : 0.0\n",
      "slice_duration  : 0.0\n",
      "toffset         : 0.0\n",
      "glmax           : 0\n",
      "glmin           : 0\n",
      "descrip         : b''\n",
      "aux_file        : b''\n",
      "qform_code      : aligned\n",
      "sform_code      : scanner\n",
      "quatern_b       : 0.0\n",
      "quatern_c       : 0.0\n",
      "quatern_d       : 1.0\n",
      "qoffset_x       : 100.0\n",
      "qoffset_y       : 100.0\n",
      "qoffset_z       : -175.20395\n",
      "srow_x          : [ -0.390625   0.         0.       100.      ]\n",
      "srow_y          : [  0.        -0.390625   0.       100.      ]\n",
      "srow_z          : [   0.          0.          0.800018 -175.20395 ]\n",
      "intent_name     : b''\n",
      "magic           : b'n+1'\n",
      "Affine transformation matrix: [[  -0.390625      0.            0.          100.        ]\n",
      " [   0.           -0.390625      0.          100.        ]\n",
      " [   0.            0.            0.80001801 -175.20394897]\n",
      " [   0.            0.            0.            1.        ]]\n"
     ]
    }
   ],
   "source": [
    "nii_data = nib.load(path)\n",
    "\n",
    "\n",
    "# Access header information\n",
    "header = nii_data.header\n",
    "\n",
    "# Access the affine transformation matrix\n",
    "affine = nii_data.affine\n",
    "# Access the image data as a NumPy array\n",
    "data = nii_data.get_fdata()\n",
    "\n",
    "# Print some information\n",
    "print(f\"Data shape: {data.shape}\")\n",
    "print(f\"Data type: {data.dtype}\")\n",
    "print(\"Header information:\", header)\n",
    "print(\"Affine transformation matrix:\", affine)"
   ]
  },
  {
   "cell_type": "code",
   "execution_count": 4,
   "metadata": {},
   "outputs": [
    {
     "data": {
      "text/plain": [
       "numpy.ndarray"
      ]
     },
     "execution_count": 4,
     "metadata": {},
     "output_type": "execute_result"
    }
   ],
   "source": [
    "type(affine)"
   ]
  },
  {
   "cell_type": "code",
   "execution_count": 25,
   "metadata": {},
   "outputs": [
    {
     "name": "stdout",
     "output_type": "stream",
     "text": [
      "Data shape: (512, 512, 438)\n",
      "Data type: float64\n",
      "Voxel spacing: (0.390625, 0.390625, 0.800018)\n",
      "Header information: <class 'nibabel.nifti1.Nifti1Header'> object, endian='<'\n",
      "sizeof_hdr      : 348\n",
      "data_type       : b''\n",
      "db_name         : b''\n",
      "extents         : 0\n",
      "session_error   : 0\n",
      "regular         : b'r'\n",
      "dim_info        : 0\n",
      "dim             : [  3 512 512 438   1   1   1   1]\n",
      "intent_p1       : 0.0\n",
      "intent_p2       : 0.0\n",
      "intent_p3       : 0.0\n",
      "intent_code     : none\n",
      "datatype        : int16\n",
      "bitpix          : 16\n",
      "slice_start     : 0\n",
      "pixdim          : [1.       0.390625 0.390625 0.800018 0.       0.       0.       0.      ]\n",
      "vox_offset      : 0.0\n",
      "scl_slope       : nan\n",
      "scl_inter       : nan\n",
      "slice_end       : 0\n",
      "slice_code      : unknown\n",
      "xyzt_units      : 2\n",
      "cal_max         : 0.0\n",
      "cal_min         : 0.0\n",
      "slice_duration  : 0.0\n",
      "toffset         : 0.0\n",
      "glmax           : 0\n",
      "glmin           : 0\n",
      "descrip         : b''\n",
      "aux_file        : b''\n",
      "qform_code      : aligned\n",
      "sform_code      : scanner\n",
      "quatern_b       : 0.0\n",
      "quatern_c       : 0.0\n",
      "quatern_d       : 1.0\n",
      "qoffset_x       : 100.0\n",
      "qoffset_y       : 100.0\n",
      "qoffset_z       : -175.20395\n",
      "srow_x          : [ -0.390625   0.         0.       100.      ]\n",
      "srow_y          : [  0.        -0.390625   0.       100.      ]\n",
      "srow_z          : [   0.          0.          0.800018 -175.20395 ]\n",
      "intent_name     : b''\n",
      "magic           : b'n+1'\n"
     ]
    }
   ],
   "source": [
    "\n",
    "# Get voxel spacing (voxel dimensions)\n",
    "voxel_spacing = header.get_zooms()\n",
    "\n",
    "# Print some information\n",
    "print(f\"Data shape: {data.shape}\")\n",
    "print(f\"Data type: {data.dtype}\")\n",
    "print(f\"Voxel spacing: {voxel_spacing}\")\n",
    "print(\"Header information:\", header)"
   ]
  },
  {
   "cell_type": "markdown",
   "metadata": {},
   "source": [
    " why is voxel spacing the same as affine transformation matrix?"
   ]
  },
  {
   "cell_type": "code",
   "execution_count": 26,
   "metadata": {},
   "outputs": [],
   "source": [
    "import matplotlib.pyplot as plt"
   ]
  },
  {
   "cell_type": "markdown",
   "metadata": {},
   "source": [
    "## nii plots"
   ]
  },
  {
   "cell_type": "markdown",
   "metadata": {},
   "source": [
    "matplotlib"
   ]
  },
  {
   "cell_type": "code",
   "execution_count": 27,
   "metadata": {},
   "outputs": [
    {
     "data": {
      "image/png": "[encoded data removed]",
      "text/plain": [
       "<Figure size 1500x500 with 3 Axes>"
      ]
     },
     "metadata": {},
     "output_type": "display_data"
    }
   ],
   "source": [
    "# Plot slices along different axes\n",
    "fig, axes = plt.subplots(1, 3, figsize=(15, 5))\n",
    "\n",
    "slice_x = data.shape[0] // 2\n",
    "slice_y = data.shape[1] // 2\n",
    "slice_z = data.shape[2] // 2\n",
    "\n",
    "axes[0].imshow(data[slice_x, :, :].T, cmap='gray', origin='lower', aspect=voxel_spacing[1] / voxel_spacing[2])\n",
    "axes[0].set_title('Sagittal slice')\n",
    "\n",
    "axes[1].imshow(data[:, slice_y, :].T, cmap='gray', origin='lower', aspect=voxel_spacing[0] / voxel_spacing[2])\n",
    "axes[1].set_title('Coronal slice')\n",
    "\n",
    "axes[2].imshow(data[:, :, slice_z], cmap='gray', origin='lower', aspect=voxel_spacing[0] / voxel_spacing[1])\n",
    "axes[2].set_title('Axial slice')\n",
    "\n",
    "plt.tight_layout()\n",
    "plt.show()"
   ]
  },
  {
   "cell_type": "markdown",
   "metadata": {},
   "source": [
    "Plots with nilearn"
   ]
  },
  {
   "cell_type": "code",
   "execution_count": 28,
   "metadata": {},
   "outputs": [
    {
     "data": {
      "image/png": "[encoded data removed]",
      "text/plain": [
       "<Figure size 660x350 with 4 Axes>"
      ]
     },
     "metadata": {},
     "output_type": "display_data"
    }
   ],
   "source": [
    "from nilearn import plotting\n",
    "\n",
    "# Plotting the 3 orthogonal views\n",
    "plotting.plot_anat(path, display_mode='ortho', title='Orthogonal Views')\n",
    "\n",
    "# Show the plots\n",
    "plt.show()"
   ]
  },
  {
   "cell_type": "markdown",
   "metadata": {},
   "source": [
    "## Analyze sipla bone preprocessed"
   ]
  },
  {
   "cell_type": "code",
   "execution_count": 1,
   "metadata": {},
   "outputs": [
    {
     "name": "stdout",
     "output_type": "stream",
     "text": [
      "data shape is (29959, 42)\n"
     ]
    },
    {
     "data": {
      "text/plain": [
       "Unnamed: 0.2                    29959\n",
       "Unnamed: 0.1                    29959\n",
       "Unnamed: 0                      29959\n",
       "id                              29959\n",
       "frame                             194\n",
       "cal_focal_length                   27\n",
       "cal_principalp_x                   27\n",
       "cal_principalp_y                   27\n",
       "cal_mm_per_pxl                     15\n",
       "femur_rxx                       26501\n",
       "femur_rxy                       26501\n",
       "femur_rxz                       26501\n",
       "femur_tx                        28540\n",
       "femur_ryx                       26501\n",
       "femur_ryy                       26501\n",
       "femur_ryz                       26501\n",
       "femur_ty                        28492\n",
       "femur_rzx                       26501\n",
       "femur_rzy                       26501\n",
       "femur_rzz                       26501\n",
       "femur_tz                        28507\n",
       "femur_stl                          27\n",
       "femur_nii                          27\n",
       "tibia_rxx                       24850\n",
       "tibia_rxy                       24850\n",
       "tibia_rxz                       24850\n",
       "tibia_tx                        28445\n",
       "tibia_ryx                       24850\n",
       "tibia_ryy                       24850\n",
       "tibia_ryz                       24850\n",
       "tibia_ty                        28263\n",
       "tibia_rzx                       24850\n",
       "tibia_rzy                       24848\n",
       "tibia_rzz                       24850\n",
       "tibia_tz                        28440\n",
       "tibia_stl                          27\n",
       "tibia_nii                          27\n",
       "img_path                        29922\n",
       "kneefit_txt_path(sourcepath)      602\n",
       "type                                1\n",
       "patient_id                         27\n",
       "spacing                             6\n",
       "dtype: int64"
      ]
     },
     "execution_count": 1,
     "metadata": {},
     "output_type": "execute_result"
    }
   ],
   "source": [
    "import pandas as pd\n",
    "# knee_fit_path = \"D:\\kneefit_model_nii\\kneefit_data_cluster_modified.csv\"\n",
    "knee_fit_path_bone = r\"C:\\Users\\Public Admin\\Desktop\\Gitlab\\kneedeeppose\\data\\sipla_bone_preprocessed.csv\"\n",
    "\n",
    "knee_df_bone = pd.read_csv(knee_fit_path_bone)\n",
    "\n",
    "print(f\"data shape is { knee_df_bone.shape }\")\n",
    "\n",
    "unique_counts = knee_df_bone.nunique()\n",
    "\n",
    "unique_counts"
   ]
  },
  {
   "cell_type": "markdown",
   "metadata": {},
   "source": [
    "We have 27 unique patients"
   ]
  },
  {
   "cell_type": "markdown",
   "metadata": {},
   "source": [
    "## statistical analysis"
   ]
  },
  {
   "cell_type": "markdown",
   "metadata": {},
   "source": [
    "### rotation"
   ]
  },
  {
   "cell_type": "code",
   "execution_count": 2,
   "metadata": {},
   "outputs": [],
   "source": [
    "import pandas as pd\n",
    "import numpy as np\n",
    "\n",
    "def rotation_matrix_to_euler_angles(R):\n",
    "    # Assuming R is a valid 3x3 rotation matrix\n",
    "    assert R.shape == (3, 3), \"R must be a 3x3 matrix\"\n",
    "    sy = np.sqrt(R[0, 0] ** 2 + R[1, 0] ** 2)\n",
    "    \n",
    "    singular = sy < 1e-6\n",
    "    \n",
    "    if not singular:\n",
    "        x = np.arctan2(R[2, 1], R[2, 2])\n",
    "        y = np.arctan2(-R[2, 0], sy)\n",
    "        z = np.arctan2(R[1, 0], R[0, 0])\n",
    "    else:\n",
    "        x = np.arctan2(-R[1, 2], R[1, 1])\n",
    "        y = np.arctan2(-R[2, 0], sy)\n",
    "        z = 0\n",
    "\n",
    "    return np.array([x, y, z])\n",
    "\n",
    "\n"
   ]
  },
  {
   "cell_type": "markdown",
   "metadata": {},
   "source": [
    "## femur"
   ]
  },
  {
   "cell_type": "code",
   "execution_count": 3,
   "metadata": {},
   "outputs": [],
   "source": [
    "\n",
    "# Function to convert row of specific columns to rotation matrix and compute Euler angles\n",
    "def specific_columns_to_euler_angles(row, col_indices):\n",
    "    # Extract specific columns from row and reshape them into a 3x3 rotation matrix\n",
    "    R = row[col_indices].values.reshape(3, 3)\n",
    "    # Convert rotation matrix to Euler angles\n",
    "    return rotation_matrix_to_euler_angles(R)\n",
    "\n",
    "# Select specific columns by index (e.g., columns 'r11', 'r12', 'r13' and 'r21', 'r22', 'r23')\n",
    "specific_columns_indices = [\"femur_rxx\", \"femur_rxy\", \"femur_rxz\",\n",
    "                            \"femur_ryx\", \"femur_ryy\", \"femur_ryz\",\n",
    "                            \"femur_rzx\", \"femur_rzy\", \"femur_rzz\"\n",
    "                            ]\n",
    "\n",
    "# Apply the function to specific columns using apply with axis=1\n",
    "euler_angles_specific_columns = knee_df_bone.apply(lambda row: specific_columns_to_euler_angles(row, specific_columns_indices), axis=1)"
   ]
  },
  {
   "cell_type": "code",
   "execution_count": 5,
   "metadata": {},
   "outputs": [],
   "source": [
    "euler_angles = euler_angles_specific_columns.to_numpy()\n",
    "\n",
    "# Statistical analysis\n",
    "mean_angles = np.mean(euler_angles, axis=0)\n",
    "std_angles = np.std(euler_angles, axis=0)"
   ]
  },
  {
   "cell_type": "markdown",
   "metadata": {},
   "source": [
    "### rotation"
   ]
  },
  {
   "cell_type": "code",
   "execution_count": 6,
   "metadata": {},
   "outputs": [
    {
     "data": {
      "text/plain": [
       "array([-0.51516752,  0.09694658, -0.17753731])"
      ]
     },
     "execution_count": 6,
     "metadata": {},
     "output_type": "execute_result"
    }
   ],
   "source": [
    "mean_angles"
   ]
  },
  {
   "cell_type": "code",
   "execution_count": 7,
   "metadata": {},
   "outputs": [
    {
     "data": {
      "text/plain": [
       "array([1.72011156, 1.37134341, 1.61421341])"
      ]
     },
     "execution_count": 7,
     "metadata": {},
     "output_type": "execute_result"
    }
   ],
   "source": [
    "std_angles"
   ]
  },
  {
   "cell_type": "markdown",
   "metadata": {},
   "source": [
    "### translation"
   ]
  },
  {
   "cell_type": "code",
   "execution_count": 10,
   "metadata": {},
   "outputs": [
    {
     "name": "stdout",
     "output_type": "stream",
     "text": [
      "tx: mean =  3.1718199385578627, std = 36.54523112051709\n",
      "ty: mean =  10.438811284243632, std = 24.498207066443605\n",
      "tz: mean =  -847.0012033971627, std = 35.79227180086444\n"
     ]
    }
   ],
   "source": [
    "print(f'tx: mean =  {knee_df_bone[\"femur_tx\"].mean(axis=0)}, std = {knee_df_bone[\"femur_tx\"].std(axis=0)}')\n",
    "print(f'ty: mean =  {knee_df_bone[\"femur_ty\"].mean(axis=0)}, std = {knee_df_bone[\"femur_ty\"].std(axis=0)}')\n",
    "print(f'tz: mean =  {knee_df_bone[\"femur_tz\"].mean(axis=0)}, std = {knee_df_bone[\"femur_tz\"].std(axis=0)}')"
   ]
  },
  {
   "cell_type": "markdown",
   "metadata": {},
   "source": [
    "## tibia"
   ]
  },
  {
   "cell_type": "code",
   "execution_count": 13,
   "metadata": {},
   "outputs": [],
   "source": [
    "specific_columns_indices = [\"tibia_rxx\", \"tibia_rxy\", \"tibia_rxz\",\n",
    "                            \"tibia_ryx\", \"tibia_ryy\", \"tibia_ryz\",\n",
    "                            \"tibia_rzx\", \"tibia_rzy\", \"tibia_rzz\"\n",
    "                            ]\n",
    "\n",
    "# Apply the function to specific columns using apply with axis=1\n",
    "euler_angles_specific_columns = knee_df_bone.apply(lambda row: specific_columns_to_euler_angles(row, specific_columns_indices), axis=1)\n",
    "\n",
    "euler_angles = euler_angles_specific_columns.to_numpy()\n",
    "\n",
    "# Statistical analysis\n",
    "mean_angles = np.mean(euler_angles, axis=0)\n",
    "std_angles = np.std(euler_angles, axis=0)"
   ]
  },
  {
   "cell_type": "code",
   "execution_count": 14,
   "metadata": {},
   "outputs": [
    {
     "name": "stdout",
     "output_type": "stream",
     "text": [
      "tibia rotation means [ 0.60039963  0.09776491 -0.24735646]\n",
      "tibia rotation stds [1.48641263 1.38060634 2.20927535]\n"
     ]
    }
   ],
   "source": [
    "print('tibia rotation means', mean_angles)\n",
    "print('tibia rotation stds', std_angles)"
   ]
  },
  {
   "cell_type": "code",
   "execution_count": 15,
   "metadata": {},
   "outputs": [
    {
     "name": "stdout",
     "output_type": "stream",
     "text": [
      "tx: mean =  2.445172413734804, std = 36.98991953614845\n",
      "ty: mean =  7.690721602090325, std = 24.410558377477457\n",
      "tz: mean =  -844.2580830354785, std = 36.14886450437578\n"
     ]
    }
   ],
   "source": [
    "print(f'tx: mean =  {knee_df_bone[\"tibia_tx\"].mean(axis=0)}, std = {knee_df_bone[\"tibia_tx\"].std(axis=0)}')\n",
    "print(f'ty: mean =  {knee_df_bone[\"tibia_ty\"].mean(axis=0)}, std = {knee_df_bone[\"tibia_ty\"].std(axis=0)}')\n",
    "print(f'tz: mean =  {knee_df_bone[\"tibia_tz\"].mean(axis=0)}, std = {knee_df_bone[\"tibia_tz\"].std(axis=0)}')"
   ]
  }
 ],
 "metadata": {
  "kernelspec": {
   "display_name": "Python 3",
   "language": "python",
   "name": "python3"
  },
  "language_info": {
   "codemirror_mode": {
    "name": "ipython",
    "version": 3
   },
   "file_extension": ".py",
   "mimetype": "text/x-python",
   "name": "python",
   "nbconvert_exporter": "python",
   "pygments_lexer": "ipython3",
   "version": "3.11.9"
  }
 },
 "nbformat": 4,
 "nbformat_minor": 2
}
