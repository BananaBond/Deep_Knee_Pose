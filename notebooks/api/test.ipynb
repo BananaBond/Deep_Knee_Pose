{
 "cells": [
  {
   "cell_type": "code",
   "execution_count": 3,
   "metadata": {},
   "outputs": [
    {
     "ename": "AttributeError",
     "evalue": "'list' object has no attribute 'any'",
     "output_type": "error",
     "traceback": [
      "\u001b[1;31m---------------------------------------------------------------------------\u001b[0m",
      "\u001b[1;31mAttributeError\u001b[0m                            Traceback (most recent call last)",
      "Cell \u001b[1;32mIn[3], line 2\u001b[0m\n\u001b[0;32m      1\u001b[0m a \u001b[38;5;241m=\u001b[39m [\u001b[38;5;241m1\u001b[39m,\u001b[38;5;241m1\u001b[39m,\u001b[38;5;241m0\u001b[39m,\u001b[38;5;241m4\u001b[39m,\u001b[38;5;241m5\u001b[39m]\n\u001b[1;32m----> 2\u001b[0m \u001b[38;5;28;01mwhile\u001b[39;00m a\u001b[38;5;241m.\u001b[39many() \u001b[38;5;241m>\u001b[39m \u001b[38;5;241m1\u001b[39m:\n\u001b[0;32m      3\u001b[0m     \u001b[38;5;28mprint\u001b[39m(\u001b[38;5;124m\"\u001b[39m\u001b[38;5;124mfound\u001b[39m\u001b[38;5;124m\"\u001b[39m)\n",
      "\u001b[1;31mAttributeError\u001b[0m: 'list' object has no attribute 'any'"
     ]
    }
   ],
   "source": [
    "a = [1,1,0,4,5]\n",
    "while a.any() > 1:\n",
    "    print(\"found\")"
   ]
  },
  {
   "cell_type": "code",
   "execution_count": 18,
   "metadata": {},
   "outputs": [
    {
     "name": "stdout",
     "output_type": "stream",
     "text": [
      "tensor([0])\n",
      "tensor([69])\n",
      "tensor([69, 50, 20, 30])\n"
     ]
    }
   ],
   "source": [
    "import torch\n",
    "offset = torch.tensor([10,50,20,30])\n",
    "threshold = 20\n",
    "# a = offset>threshold\n",
    "# b = a * offset\n",
    "# print(b)\n",
    "zero_indices = (offset < threshold).nonzero(as_tuple=True)[0]\n",
    "print(zero_indices)\n",
    "if len(zero_indices) == 0:\n",
    "    print(\"Pog\")\n",
    "else:\n",
    "    random_values = torch.randint(1, 100, (len(zero_indices),))\n",
    "    print(random_values)\n",
    "    # Replace zeros in tensor 'a' with the random values\n",
    "    offset[zero_indices] = random_values[:len(zero_indices)]\n",
    "\n",
    "    print(offset)\n"
   ]
  },
  {
   "cell_type": "code",
   "execution_count": null,
   "metadata": {},
   "outputs": [],
   "source": [
    "def check_threshold(offsets, drr_values, drr, isocenter_pose, threshold):\n",
    "    negative_map = (drr_values < threshold).nonzero(as_tuple=True)[0]\n",
    "    if len(negative_map) > 0:\n",
    "        random_values = get_random_offset(len(negative_map), device)\n",
    "        offsets[zero_indices] = random_values[:len(zero_indices)]\n",
    "    \n",
    "    return offsets\n"
   ]
  },
  {
   "cell_type": "code",
   "execution_count": 6,
   "metadata": {},
   "outputs": [
    {
     "name": "stdout",
     "output_type": "stream",
     "text": [
      "<class 'torch.Tensor'>\n",
      "tensor([ True, False, False, False])\n"
     ]
    },
    {
     "data": {
      "text/plain": [
       "tensor([0])"
      ]
     },
     "execution_count": 6,
     "metadata": {},
     "output_type": "execute_result"
    }
   ],
   "source": [
    "import torch\n",
    "def check_threshold(drr_values, threshold):\n",
    "    print(type((drr_values < threshold)))\n",
    "    print((drr_values < threshold))\n",
    "\n",
    "    negative_map = (drr_values < threshold).nonzero(as_tuple=True)[0]\n",
    "    return negative_map\n",
    "offset = torch.tensor([10,50,20,30])\n",
    "\n",
    "check_threshold(offset, 20)"
   ]
  },
  {
   "cell_type": "code",
   "execution_count": 2,
   "metadata": {},
   "outputs": [
    {
     "name": "stdout",
     "output_type": "stream",
     "text": [
      "4\n"
     ]
    }
   ],
   "source": []
  },
  {
   "cell_type": "code",
   "execution_count": null,
   "metadata": {},
   "outputs": [],
   "source": []
  }
 ],
 "metadata": {
  "kernelspec": {
   "display_name": "Python 3",
   "language": "python",
   "name": "python3"
  },
  "language_info": {
   "codemirror_mode": {
    "name": "ipython",
    "version": 3
   },
   "file_extension": ".py",
   "mimetype": "text/x-python",
   "name": "python",
   "nbconvert_exporter": "python",
   "pygments_lexer": "ipython3",
   "version": "3.11.9"
  }
 },
 "nbformat": 4,
 "nbformat_minor": 2
}
